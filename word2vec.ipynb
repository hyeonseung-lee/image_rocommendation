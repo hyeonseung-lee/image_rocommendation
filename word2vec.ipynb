{
 "cells": [
  {
   "cell_type": "code",
   "execution_count": 126,
   "metadata": {},
   "outputs": [],
   "source": [
    "import pandas as pd\n",
    "import numpy as np\n",
    "import nltk\n",
    "from gensim.models import Word2Vec\n",
    "from sklearn.metrics.pairwise import cosine_similarity"
   ]
  },
  {
   "cell_type": "code",
   "execution_count": 127,
   "metadata": {},
   "outputs": [
    {
     "name": "stdout",
     "output_type": "stream",
     "text": [
      "Number of null values in 'item_name': 0\n"
     ]
    }
   ],
   "source": [
    "# 데이터 로드\n",
    "data = pd.read_csv('yoitdata_shoes-boots.csv')\n",
    "data.dropna(inplace=True)\n",
    "num_null = data['item_name'].isnull().sum()\n",
    "print(f\"Number of null values in 'item_name': {num_null}\")"
   ]
  },
  {
   "cell_type": "code",
   "execution_count": 128,
   "metadata": {},
   "outputs": [
    {
     "name": "stdout",
     "output_type": "stream",
     "text": [
      "Columns with null values: Index([], dtype='object')\n"
     ]
    }
   ],
   "source": [
    "# 모든 column에 NaN 값이 없는지 확인\n",
    "null_cols = data.columns[data.isnull().any()]\n",
    "print(f\"Columns with null values: {null_cols}\")"
   ]
  },
  {
   "cell_type": "code",
   "execution_count": 129,
   "metadata": {},
   "outputs": [],
   "source": [
    "# NaN 값을 가지고 있는 row 삭제\n",
    "data.dropna(inplace=True)"
   ]
  },
  {
   "cell_type": "code",
   "execution_count": 130,
   "metadata": {},
   "outputs": [],
   "source": [
    "# 전처리\n",
    "item_name = [nltk.word_tokenize(name.lower()) for name in data['item_name']]\n",
    "\n"
   ]
  },
  {
   "cell_type": "code",
   "execution_count": 131,
   "metadata": {},
   "outputs": [],
   "source": [
    "# Word2Vec 모델 학습\n",
    "model = Word2Vec(item_name, vector_size=100, window=5, min_count=5, workers=4)\n"
   ]
  },
  {
   "cell_type": "code",
   "execution_count": 132,
   "metadata": {},
   "outputs": [],
   "source": [
    "# 입력받은 문장 전처리\n",
    "input_sentence = 'Rugged Flex 6 Inch Waterproof Composite Toe EH Work Boots Work Shoes Beige- Mens- Size 10.5 2E'\n",
    "input_words = nltk.word_tokenize(input_sentence.lower())\n"
   ]
  },
  {
   "cell_type": "code",
   "execution_count": 133,
   "metadata": {},
   "outputs": [],
   "source": [
    "# 입력 문장의 Word2Vec 표현 계산\n",
    "input_vector = np.mean([model.wv[word] for word in input_words if word in model.wv and not np.isnan(model.wv[word]).any()], axis=0)\n",
    "if not np.isnan(input_vector).any():\n",
    "    input_vector = input_vector.reshape(1, -1)\n",
    "else:\n",
    "    print('Input vector contains NaN.')\n"
   ]
  },
  {
   "cell_type": "code",
   "execution_count": 134,
   "metadata": {},
   "outputs": [
    {
     "name": "stderr",
     "output_type": "stream",
     "text": [
      "/opt/homebrew/Caskroom/miniforge/base/envs/pytorch/lib/python3.8/site-packages/numpy/core/fromnumeric.py:3432: RuntimeWarning: Mean of empty slice.\n",
      "  return _methods._mean(a, axis=axis, dtype=dtype,\n",
      "/opt/homebrew/Caskroom/miniforge/base/envs/pytorch/lib/python3.8/site-packages/numpy/core/_methods.py:190: RuntimeWarning: invalid value encountered in double_scalars\n",
      "  ret = ret.dtype.type(ret / rcount)\n"
     ]
    },
    {
     "name": "stdout",
     "output_type": "stream",
     "text": [
      "Sentence vector 2057 contains NaN.\n",
      "Sentence vector 3121 contains NaN.\n",
      "Sentence vector 7791 contains NaN.\n",
      "Sentence vector 9768 contains NaN.\n",
      "Sentence vector 12669 contains NaN.\n",
      "Sentence vector 15745 contains NaN.\n",
      "Sentence vector 16079 contains NaN.\n",
      "Sentence vector 17409 contains NaN.\n",
      "Sentence vector 21469 contains NaN.\n",
      "Sentence vector 22737 contains NaN.\n",
      "Sentence vector 25547 contains NaN.\n",
      "Sentence vector 31970 contains NaN.\n",
      "Sentence vector 34031 contains NaN.\n",
      "Sentence vector 35481 contains NaN.\n"
     ]
    }
   ],
   "source": [
    "# 모든 문장의 Word2Vec 표현 계산\n",
    "sent_vectors = np.zeros((len(item_name), 100))\n",
    "for i in range(len(item_name)):\n",
    "    sent_vector = np.mean([model.wv[word] for word in item_name[i] if word in model.wv and not np.isnan(model.wv[word]).any()], axis=0)\n",
    "    if not np.isnan(sent_vector).any():\n",
    "        sent_vectors[i] = sent_vector.reshape(1, -1)\n",
    "    else:\n",
    "        print(f'Sentence vector {i} contains NaN.')"
   ]
  },
  {
   "attachments": {},
   "cell_type": "markdown",
   "metadata": {},
   "source": [
    "#### cosine similarity"
   ]
  },
  {
   "cell_type": "code",
   "execution_count": 172,
   "metadata": {},
   "outputs": [
    {
     "name": "stdout",
     "output_type": "stream",
     "text": [
      "1. Rugged Flex 6 Inch Waterproof Composite Toe EH Work Boots Work Shoes Beige- Mens- Size 10.5 2E, 1.0\n",
      "2. Sierra Calf Metallic Snip Toe Cowboy Boots  Black- Womens- Size 8 B, 0.9999505968563551\n",
      "3. Ronnie Pull On Booties Boots Black- Womens- Size 6 WW, 0.9997088594798211\n",
      "4. AMP LT Wedge Waterproof 6 Work Boot, 0.9996869877486143\n",
      "5. Stella Water Resistant Zippered Booties Boots Brown- Womens- Size 6.5 M, 0.9996802700777425\n",
      "6. Gone Fish'n Rain Boots (Toddler/Little Kid/Big Kid), 0.9996312374106349\n",
      "7. Pran Cer Chelsea Boots Casual Shoes Brown- Womens- Size 8.5 M, 0.9996224329958503\n",
      "8. WorkHog 11 inch Waterproof Soft Toe Work Boots Work Shoes Brown- Mens- Size 13 D, 0.9996079443071337\n",
      "9. Titan EV 6\" Waterproof Composite Toe Work Boots Casual Shoes Brown- Mens- Size 10 M, 0.9995887158257\n",
      "10. Edgewater Classic Mid, 0.999565616152658\n",
      "11. Comfort Foam Jo Bootie, 0.9995633520408582\n",
      "12. Floatride Energy 8\" Electrical Soft Toe Work Boots Work Shoes Brown- Mens- Size 10.5 W, 0.9994922195917119\n",
      "13. Baby (0-6M) Bib and Booties Set in Blue, Size: 0-6M | LN0411-U89, 0.9994741726619958\n",
      "14. Stormy Rain Boot (Black) Women's Shoes, 0.9994525855112499\n",
      "15. Baby Bootie, 0.9993916114196133\n",
      "16. Essential Chelsea Boot, 0.9993609865476876\n",
      "17. Tumbleweed Roper Round Toe Booties Boots Brown- Womens- Size 7.5 M, 0.9991434951462508\n",
      "18. Daisy Square Toe Cowboy Boots Casual Shoes Brown- Womens- Size 7.5 B, 0.9983654119627667\n",
      "19. Cliff Full Quill Ostrich Square Toe Cowboy Boots Casual Shoes Brown- Mens- Size 13 D, 0.9983065414867309\n",
      "20. Jackson Round Toe Cowboy Boots  Brown- Mens- Size 14 D, 0.998164317917136\n"
     ]
    }
   ],
   "source": [
    "# 입력 문장과 모든 문장 간의 코사인 유사도 계산\n",
    "similarity = cosine_similarity(input_vector, sent_vectors)\n",
    "# 유사도가 가장 높은 상위 10개 문장 출력\n",
    "top_indices = similarity[0].argsort()[::-1][:20]\n",
    "for i, index in enumerate(top_indices):\n",
    "    print(f'{i+1}. {data[\"item_name\"][index]}, {similarity[0][index]}')"
   ]
  },
  {
   "cell_type": "markdown",
   "metadata": {},
   "source": []
  },
  {
   "attachments": {},
   "cell_type": "markdown",
   "metadata": {},
   "source": [
    "#### jaccard similarity"
   ]
  },
  {
   "attachments": {},
   "cell_type": "markdown",
   "metadata": {},
   "source": [
    "#### cosine Similarity using Spacy"
   ]
  },
  {
   "attachments": {},
   "cell_type": "markdown",
   "metadata": {},
   "source": [
    "#### cosine similarity using scipy"
   ]
  }
 ],
 "metadata": {
  "kernelspec": {
   "display_name": "pytorch",
   "language": "python",
   "name": "python3"
  },
  "language_info": {
   "codemirror_mode": {
    "name": "ipython",
    "version": 3
   },
   "file_extension": ".py",
   "mimetype": "text/x-python",
   "name": "python",
   "nbconvert_exporter": "python",
   "pygments_lexer": "ipython3",
   "version": "3.8.13"
  },
  "orig_nbformat": 4,
  "vscode": {
   "interpreter": {
    "hash": "071f83251836d5bb3918d2af6501aef1a588d685a567aa45f470f25864dd9495"
   }
  }
 },
 "nbformat": 4,
 "nbformat_minor": 2
}
